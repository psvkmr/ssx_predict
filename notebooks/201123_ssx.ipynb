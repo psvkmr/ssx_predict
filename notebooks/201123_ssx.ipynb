{
 "cells": [
  {
   "cell_type": "code",
   "execution_count": 6,
   "metadata": {},
   "outputs": [],
   "source": [
    "import sys"
   ]
  },
  {
   "cell_type": "code",
   "execution_count": 7,
   "metadata": {},
   "outputs": [],
   "source": [
    "sys.path.insert(0, 'C://Users/Prasanth/Projects/ssx_predict/ssx_prediction/ssx_prediction/')"
   ]
  },
  {
   "cell_type": "code",
   "execution_count": 8,
   "metadata": {},
   "outputs": [],
   "source": [
    "import ssx_data"
   ]
  },
  {
   "cell_type": "code",
   "execution_count": 9,
   "metadata": {},
   "outputs": [],
   "source": [
    "from time import sleep"
   ]
  },
  {
   "cell_type": "code",
   "execution_count": 10,
   "metadata": {},
   "outputs": [
    {
     "name": "stdout",
     "output_type": "stream",
     "text": [
      "All Teams exist in xG dataset\n"
     ]
    }
   ],
   "source": [
    "ssx_results = ssx_data.supersix()\n",
    "ssx_results.login()\n",
    "sleep(2)\n",
    "ssx_results.ss_fixtures()\n",
    "ssx_results.season_details(season_start_years=['2019', '2020'])\n",
    "ssx_results.get_ss_stats()"
   ]
  },
  {
   "cell_type": "code",
   "execution_count": 11,
   "metadata": {},
   "outputs": [
    {
     "data": {
      "text/plain": [
       "['Manchester United',\n",
       " 'Istanbul Basaksehir',\n",
       " 'Paris Saint-Germain',\n",
       " 'RB Leipzig',\n",
       " 'Dynamo Kiev',\n",
       " 'Barcelona',\n",
       " 'AFC Bournemouth',\n",
       " 'Nottingham Forest',\n",
       " 'Preston North End',\n",
       " 'Blackburn',\n",
       " 'Barnsley',\n",
       " 'Brentford']"
      ]
     },
     "execution_count": 11,
     "metadata": {},
     "output_type": "execute_result"
    }
   ],
   "source": [
    "ssx_results.teams_involved"
   ]
  },
  {
   "cell_type": "code",
   "execution_count": 12,
   "metadata": {},
   "outputs": [
    {
     "data": {
      "text/html": [
       "<div>\n",
       "<style scoped>\n",
       "    .dataframe tbody tr th:only-of-type {\n",
       "        vertical-align: middle;\n",
       "    }\n",
       "\n",
       "    .dataframe tbody tr th {\n",
       "        vertical-align: top;\n",
       "    }\n",
       "\n",
       "    .dataframe thead th {\n",
       "        text-align: right;\n",
       "    }\n",
       "</style>\n",
       "<table border=\"1\" class=\"dataframe\">\n",
       "  <thead>\n",
       "    <tr style=\"text-align: right;\">\n",
       "      <th></th>\n",
       "      <th>home</th>\n",
       "      <th>away</th>\n",
       "      <th>home_xg</th>\n",
       "      <th>away_xg</th>\n",
       "    </tr>\n",
       "  </thead>\n",
       "  <tbody>\n",
       "    <tr>\n",
       "      <th>0</th>\n",
       "      <td>Manchester United</td>\n",
       "      <td>Istanbul Basaksehir</td>\n",
       "      <td>1.120000</td>\n",
       "      <td>0.950000</td>\n",
       "    </tr>\n",
       "    <tr>\n",
       "      <th>1</th>\n",
       "      <td>Paris Saint-Germain</td>\n",
       "      <td>RB Leipzig</td>\n",
       "      <td>1.691205</td>\n",
       "      <td>1.283348</td>\n",
       "    </tr>\n",
       "    <tr>\n",
       "      <th>2</th>\n",
       "      <td>Dynamo Kiev</td>\n",
       "      <td>Barcelona</td>\n",
       "      <td>0.490000</td>\n",
       "      <td>1.930000</td>\n",
       "    </tr>\n",
       "    <tr>\n",
       "      <th>3</th>\n",
       "      <td>AFC Bournemouth</td>\n",
       "      <td>Nottingham Forest</td>\n",
       "      <td>1.278378</td>\n",
       "      <td>1.226131</td>\n",
       "    </tr>\n",
       "    <tr>\n",
       "      <th>4</th>\n",
       "      <td>Preston North End</td>\n",
       "      <td>Blackburn</td>\n",
       "      <td>1.330427</td>\n",
       "      <td>1.081059</td>\n",
       "    </tr>\n",
       "    <tr>\n",
       "      <th>5</th>\n",
       "      <td>Barnsley</td>\n",
       "      <td>Brentford</td>\n",
       "      <td>0.955143</td>\n",
       "      <td>1.287889</td>\n",
       "    </tr>\n",
       "  </tbody>\n",
       "</table>\n",
       "</div>"
      ],
      "text/plain": [
       "                  home                 away   home_xg   away_xg\n",
       "0    Manchester United  Istanbul Basaksehir  1.120000  0.950000\n",
       "1  Paris Saint-Germain           RB Leipzig  1.691205  1.283348\n",
       "2          Dynamo Kiev            Barcelona  0.490000  1.930000\n",
       "3      AFC Bournemouth    Nottingham Forest  1.278378  1.226131\n",
       "4    Preston North End            Blackburn  1.330427  1.081059\n",
       "5             Barnsley            Brentford  0.955143  1.287889"
      ]
     },
     "execution_count": 12,
     "metadata": {},
     "output_type": "execute_result"
    }
   ],
   "source": [
    "ssx_results.xg_df"
   ]
  },
  {
   "cell_type": "code",
   "execution_count": 13,
   "metadata": {},
   "outputs": [],
   "source": [
    "import matplotlib.pyplot as plt"
   ]
  },
  {
   "cell_type": "code",
   "execution_count": 14,
   "metadata": {},
   "outputs": [],
   "source": [
    "from matplotlib.backends.backend_pdf import PdfPages"
   ]
  },
  {
   "cell_type": "code",
   "execution_count": 16,
   "metadata": {},
   "outputs": [
    {
     "data": {
      "image/png": "[encoded data removed]",
      "text/plain": [
       "<Figure size 864x288 with 1 Axes>"
      ]
     },
     "metadata": {
      "needs_background": "light"
     },
     "output_type": "display_data"
    }
   ],
   "source": [
    "fig, ax = plt.subplots(figsize=(12,4))\n",
    "ax.axis('tight')\n",
    "ax.axis('off')\n",
    "ssx_table = ax.table(cellText=ssx_results.xg_df.values,colLabels=ssx_results.xg_df.columns,loc='center')"
   ]
  },
  {
   "cell_type": "code",
   "execution_count": 22,
   "metadata": {},
   "outputs": [],
   "source": [
    "pp = PdfPages('C://Users/Prasanth/Projects/ssx_predict/data/results/201123_predictions.pdf')\n",
    "pp.savefig(fig, bbox_inches='tight')\n",
    "pp.close()"
   ]
  }
 ],
 "metadata": {
  "kernelspec": {
   "display_name": "Python 3",
   "language": "python",
   "name": "python3"
  },
  "language_info": {
   "codemirror_mode": {
    "name": "ipython",
    "version": 3
   },
   "file_extension": ".py",
   "mimetype": "text/x-python",
   "name": "python",
   "nbconvert_exporter": "python",
   "pygments_lexer": "ipython3",
   "version": "3.8.6"
  }
 },
 "nbformat": 4,
 "nbformat_minor": 4
}
